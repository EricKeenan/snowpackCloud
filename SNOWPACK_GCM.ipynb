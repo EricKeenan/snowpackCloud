{
 "cells": [
  {
   "cell_type": "markdown",
   "metadata": {},
   "source": [
    "# To Do:\n",
    "1. Draw map of location site\n",
    "2. Make visualization of time selection\n",
    "3. Use `intake-esm` to querry the CMIP6 archive\n",
    "4. Use dask to retrieve 1 GCM with temperature, RH, wind speed, precipitation, ISWR, and ILWR at hopefully hourly, but at least 3-hourly temporal resolution\n",
    "5. Build .smet file\n",
    "6. Configure SNOWPACK\n",
    "7. Run SNOWPACK\n",
    "8. Visualize SNOWPACK"
   ]
  },
  {
   "cell_type": "markdown",
   "metadata": {},
   "source": [
    "# SNOWPACK future scenario using a CMIP6 global climate model hosted on Google Cloud\n",
    "### This notebook is a proof of concept designed to address this github issue https://github.com/EricKeenan/snowpackCloud/issues/1"
   ]
  },
  {
   "cell_type": "code",
   "execution_count": 8,
   "metadata": {},
   "outputs": [],
   "source": [
    "import matplotlib.pyplot as plt\n",
    "from Load_and_Process_Datasets import *\n",
    "from IPython.display import Image\n",
    "from IPython.display import FileLink, FileLinks"
   ]
  },
  {
   "cell_type": "markdown",
   "metadata": {},
   "source": [
    "# First define parameters"
   ]
  },
  {
   "cell_type": "code",
   "execution_count": 9,
   "metadata": {},
   "outputs": [],
   "source": [
    "tgt_lat = 40\n",
    "tgt_lon = -105\n",
    "t0 = \"2050-01-01\"\n",
    "tf = \"2051-01-01\""
   ]
  },
  {
   "cell_type": "markdown",
   "metadata": {},
   "source": [
    "# Build SNOWPACK forcing from CMIP6 model (create .smet file)"
   ]
  },
  {
   "cell_type": "code",
   "execution_count": null,
   "metadata": {},
   "outputs": [],
   "source": []
  },
  {
   "cell_type": "markdown",
   "metadata": {},
   "source": [
    "# Configure SNOWPACK simulation (create .ini and .sno files)"
   ]
  },
  {
   "cell_type": "code",
   "execution_count": null,
   "metadata": {},
   "outputs": [],
   "source": []
  },
  {
   "cell_type": "markdown",
   "metadata": {},
   "source": [
    "# Run SNOWPACK"
   ]
  },
  {
   "cell_type": "code",
   "execution_count": null,
   "metadata": {},
   "outputs": [],
   "source": []
  },
  {
   "cell_type": "markdown",
   "metadata": {},
   "source": [
    "# Visualize SNOWPACK output"
   ]
  },
  {
   "cell_type": "code",
   "execution_count": null,
   "metadata": {},
   "outputs": [],
   "source": []
  }
 ],
 "metadata": {
  "kernelspec": {
   "display_name": "Python 3",
   "language": "python",
   "name": "python3"
  },
  "language_info": {
   "codemirror_mode": {
    "name": "ipython",
    "version": 3
   },
   "file_extension": ".py",
   "mimetype": "text/x-python",
   "name": "python",
   "nbconvert_exporter": "python",
   "pygments_lexer": "ipython3",
   "version": "3.7.3"
  }
 },
 "nbformat": 4,
 "nbformat_minor": 4
}
