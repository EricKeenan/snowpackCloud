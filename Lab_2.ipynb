{
 "cells": [
  {
   "cell_type": "markdown",
   "metadata": {},
   "source": [
    "# Numerical Snow Modeling with SNOWPACK\n",
    "\n",
    "#### In this notebook we will set up a numerical snow model named SNOWPACK. We will then run the model and analyze the results. Note that the numerical simulations require several minutes to run.\n",
    "\n",
    "#### Numerical models are a commonly used tool to understand ice sheets. They contribute to our current and past understanding of ice sheet behavior. Notebaly they also allow us to make predictions about the future. Numerical models combine our physical understanding of snow and ice along with mathematics and computers to produce detailed estimates of snow and ice properties such as temperature and density. "
   ]
  },
  {
   "cell_type": "code",
   "execution_count": 1,
   "metadata": {},
   "outputs": [],
   "source": [
    "import matplotlib.pyplot as plt\n",
    "from Load_and_Process_Datasets import *\n",
    "from IPython.display import Image\n",
    "from IPython.display import FileLink, FileLinks"
   ]
  },
  {
   "cell_type": "markdown",
   "metadata": {},
   "source": [
    "# Tea Experiment: SNOWPACK at Steamboat Springs, Drylake, \n",
    "#### EDIT BELOW - user editable variables. Change this to configure your SNOWPACK simulation. Please note that for each new experiment, you need to define a new exepriment id, otherwise the previous simulation will be deleted! \n",
    "\n",
    "#### You can modify the SNOWPACK simulation by perturbing the input weather data via multiplicative and/or additive factors. For example, setting the air temperature multiplicative factor to 1.1 will multiply the air temperature (in Kelvin) by 1.1. Likewise, setting the the incoming shortwave radiation additive factor to 50, will increase the incoming shortwave radiation by 50 Wm$^{-2}$. Note that although it possible to modify the weather data in rather extreme ways (e.g. setting the air temperature multiplicative factor to 100), SNOWPACK will likely encounter numerical stability and or physics issues, as the model is designed for typical alpine and polar meteorological conditions! In fact, checks inside SNOWPACK may decide your modification is unrealistic and throw it out. In short, providing SNOWPACK with extereme weather data may cause SNOWPACK act strangely. With great power, comes great responsibility! :p"
   ]
  },
  {
   "cell_type": "code",
   "execution_count": 2,
   "metadata": {},
   "outputs": [],
   "source": [
    "# Experiment ID, change this to give each simulation an informative identification and unique folder\n",
    "# examples: \n",
    "# experiment_id = \"standard\" # no modifications to weather data\n",
    "# experiment_id = \"plus_one_degree\" # increase air temperature by 1 degree celsius\n",
    "# experiment_id = \"double_precipitation\" # increase precipitation by a factor of two\n",
    "# Spaces or special characters in the experiment ID are not allowed (eg. \"plus_one_degree\" not \"plus one degree\")\n",
    "drylake_tea_experiment_id = \"standard\" # no spaces or special characters. \n",
    "\n",
    "# Modify the input weather data\n",
    "# Multiplicative factors (mf) (ex: Twice as much precipitation) \n",
    "drylake_tea_TA_mf = 1 # Air temperature \n",
    "drylake_tea_RH_mf = 1 # Relative humidity \n",
    "drylake_tea_WS_mf = 1 # Wind speed \n",
    "drylake_tea_P_mf = 1 # Precipitation \n",
    "drylake_tea_SWR_mf = 1 # Incoming shortwave radiation \n",
    "drylake_tea_LWR_mf = 1 # Incoming longwave radiation \n",
    "\n",
    "# Additive factors (af) (ex: Make air temperature 1 degree warmer)\n",
    "drylake_tea_TA_af = 0 # Air temperature (degrees C)\n",
    "drylake_tea_RH_af = 0 # Relative humidity (dimensionless, 0 - 1)\n",
    "drylake_tea_WS_af = 0 # Wind speed (m/s)\n",
    "drylake_tea_P_af = 0 # Precipitation (mm/hr)\n",
    "drylake_tea_SWR_af = 0 # Incoming shortwave radiation (W/m^2)\n",
    "drylake_tea_LWR_af = 0 # Incoming longwave radiation (W/m^2)\n",
    "\n",
    "# Experiment end time, do not edit.\n",
    "drylake_tea_end = \"2020-02-23T15:00\"\n",
    "\n",
    "# Simulation location tag, do not edit. \n",
    "drylake_tea_site = \"drylake_tea\""
   ]
  },
  {
   "cell_type": "markdown",
   "metadata": {},
   "source": [
    "### DO NOT EDIT BELOW - non user editable commands. This tells SNOWPACK to start."
   ]
  },
  {
   "cell_type": "code",
   "execution_count": 3,
   "metadata": {
    "scrolled": true
   },
   "outputs": [
    {
     "name": "stdout",
     "output_type": "stream",
     "text": [
      "[i] [2020-03-03T22:57:21] ---> Start SNOWPACK w/ soil layers in RESEARCH mode\n",
      "[i] []                 ../../snowpack/Source/snowpack/bin/snowpack compiled on Feb 25 2020 at 18:54:15\n",
      "[i] []                 Experiment : standard\n",
      "[i] []                 Output dir : ./output\n",
      "\n",
      "[i] []                 Run on meteo station drylake\n",
      "[i] []                 Reading snow cover data for station drylake\n",
      "[i] []                 Finished initializing station drylake\n",
      "[i] []                 No *.haz file(s) to erase\n",
      "[i] []                 No *.sno file(s) to erase\n",
      "[i] []                 No file ./output/drylake_standard.ini to erase\n",
      "[i] [2020-03-03T22:57:21] ---> Start simulation for drylake on 2020-02-23T14:55:00-06:00\n",
      "[i] []                 End date specified by user: 2020-02-23T15:00:00-06:00\n",
      "[i] []                 Integration step length: 5.000000 min\n",
      "[i] [2020-03-03T22:57:21] ---> Writing data to sno file(s) for drylake (station drylake) on 2020-02-23T15:00:00\n",
      "[i] []                 Total time to read meteo data : 0.035126 s\n",
      "[i] []                 Runtime for station drylake: 0.041729 s\n",
      "\n",
      "[i] []                 STARTED  running SLF RESEARCH Snowpack Model on Tue Mar  3 22:57:21 2020\n",
      "                       ========================================================================\n",
      "                       FINISHED running SLF RESEARCH Snowpack Model on Tue Mar  3 22:57:21 2020\n",
      "\n",
      "  adding: output/ (stored 0%)\n",
      "  adding: output/drylake_standard.pro (deflated 68%)\n",
      "  adding: output/drylake_standard.smet (deflated 60%)\n",
      "  adding: output/drylake_standard.haz (deflated 93%)\n",
      "  adding: output/drylake_standard.ini (deflated 63%)\n",
      "  adding: output/drylake_standard.sno (deflated 81%)\n"
     ]
    }
   ],
   "source": [
    "%%bash -s \"$drylake_tea_experiment_id\" \"$drylake_tea_TA_mf\" \"$drylake_tea_RH_mf\" \"$drylake_tea_WS_mf\" \"$drylake_tea_P_mf\" \"$drylake_tea_SWR_mf\" \"$drylake_tea_LWR_mf\" \"$drylake_tea_TA_af\" \"$drylake_tea_RH_af\" \"$drylake_tea_WS_af\" \"$drylake_tea_P_af\" \"$drylake_tea_SWR_af\" \"$drylake_tea_LWR_af\" \"$drylake_tea_end\" \"$drylake_tea_site\" \n",
    "cp drylake_tea/lakeeldora.smet drylake_tea/${1}/\n",
    "bash run_SNOWPACK.sh $1 $2 $3 $4 $5 $6 $7 $8 $9 ${10} ${11} ${12} ${13} ${14} ${15}"
   ]
  },
  {
   "cell_type": "markdown",
   "metadata": {},
   "source": [
    "# SNOWPACK at Greenland Site 1\n",
    "#### EDIT BELOW - user editable variables. Change this to configure your SNOWPACK simulation. Please note that for each new experiment, you need to define a new exepriment id, otherwise the previous simulation will be deleted! \n",
    "\n",
    "#### You can modify the SNOWPACK simulation by perturbing the input weather data via multiplicative and/or additive factors. For example, setting the air temperature multiplicative factor to 1.1 will multiply the air temperature (in Kelvin) by 1.1. Likewise, setting the the incoming shortwave radiation additive factor to 50, will increase the incoming shortwave radiation by 50 Wm$^{-2}$. Note that although it possible to modify the weather data in rather extreme ways (e.g. setting the air temperature multiplicative factor to 100), SNOWPACK will likely encounter numerical stability and or physics issues, as the model is designed for typical alpine and polar meteorological conditions! In fact, checks inside SNOWPACK may decide your modification is unrealistic and throw it out. In short, providing SNOWPACK with extereme weather data may cause SNOWPACK act strangely. With great power, comes great responsibility! :p"
   ]
  },
  {
   "cell_type": "code",
   "execution_count": null,
   "metadata": {},
   "outputs": [],
   "source": [
    "# Experiment ID, change this to give each simulation an informative identification and unique folder\n",
    "# examples: \n",
    "# experiment_id = \"standard\" # no modifications to weather data\n",
    "# experiment_id = \"plus_one_degree\" # increase air temperature by 1 degree celsius\n",
    "# experiment_id = \"double_precipitation\" # increase precipitation by a factor of two\n",
    "# Spaces or special characters in the experiment ID are not allowed (eg. \"plus_one_degree\" not \"plus one degree\")\n",
    "SP_experiment_id = \"standard\" # no spaces or special characters. \n",
    "\n",
    "# Modify the input weather data\n",
    "# Multiplicative factors (mf) (ex: Twice as much precipitation) \n",
    "SP_TA_mf = 1 # Air temperature \n",
    "SP_RH_mf = 1 # Relative humidity\n",
    "SP_WS_mf = 1 # Wind speed\n",
    "SP_P_mf = 1 # Precipitation\n",
    "SP_SWR_mf = 1 # Incoming shortwave radiation\n",
    "SP_LWR_mf = 1 # Incoming longwave radiation \n",
    "\n",
    "# Additive factors (af) (ex: Make air temperature 1 degree warmer)\n",
    "SP_TA_af = 0 # Air temperature (degrees C)\n",
    "SP_RH_af = 0 # Relative humidity (dimensionless, 0 - 1)\n",
    "SP_WS_af = 0 # Wind speed (m/s)\n",
    "SP_P_af = 0 # Precipitation (mm/hr)\n",
    "SP_SWR_af = 0 # Incoming shortwave radiation (W/m^2)\n",
    "SP_LWR_af = 0 # Incoming longwave radiation (W/m^2)\n",
    "\n",
    "# Experiment end time (\"YYYY-MM-DDTHH:MM:SS\"). Note that the simulations starts at 1980-01-01T00:00:00\n",
    "SP_end = \"2007-01-01T00:00:00\"\n",
    "\n",
    "# Simulation location tag, do not edit. \n",
    "SP_site = \"SP\""
   ]
  },
  {
   "cell_type": "markdown",
   "metadata": {},
   "source": [
    "### DO NOT EDIT BELOW - non user editable commands. This tells SNOWPACK to start."
   ]
  },
  {
   "cell_type": "code",
   "execution_count": null,
   "metadata": {
    "scrolled": true
   },
   "outputs": [],
   "source": [
    "%%bash -s \"$SP_experiment_id\" \"$SP_TA_mf\" \"$SP_RH_mf\" \"$SP_WS_mf\" \"$SP_P_mf\" \"$SP_SWR_mf\" \"$SP_LWR_mf\" \"$SP_TA_af\" \"$SP_RH_af\" \"$SP_WS_af\" \"$SP_P_af\" \"$SP_SWR_af\" \"$SP_LWR_af\" \"$SP_end\" \"$SP_site\" \n",
    "bash run_SNOWPACK.sh $1 $2 $3 $4 $5 $6 $7 $8 $9 ${10} ${11} ${12} ${13} ${14} ${15}"
   ]
  },
  {
   "cell_type": "markdown",
   "metadata": {},
   "source": [
    "# SNOWPACK at Greenland Site 2\n",
    "#### EDIT BELOW - user editable variables. Change this to configure your SNOWPACK simulation. Please note that for each new experiment, you need to define a new exepriment id, otherwise the previous simulation will be deleted! \n",
    "\n",
    "#### You can modify the SNOWPACK simulation by perturbing the input weather data via multiplicative and/or additive factors. For example, setting the air temperature multiplicative factor to 1.1 will multiply the air temperature (in Kelvin) by 1.1. Likewise, setting the the incoming shortwave radiation additive factor to 50, will increase the incoming shortwave radiation by 50 Wm$^{-2}$. Note that although it possible to modify the weather data in rather extreme ways (e.g. setting the air temperature multiplicative factor to 100), SNOWPACK will likely encounter numerical stability and or physics issues, as the model is designed for typical alpine and polar meteorological conditions! In fact, checks inside SNOWPACK may decide your modification is unrealistic and throw it out. In short, providing SNOWPACK with extereme weather data may cause SNOWPACK act strangely. With great power, comes great responsibility! :p"
   ]
  },
  {
   "cell_type": "code",
   "execution_count": null,
   "metadata": {},
   "outputs": [],
   "source": [
    "# Experiment ID, change this to give each simulation an informative identification and unique folder\n",
    "# examples: \n",
    "# experiment_id = \"standard\" # no modifications to weather data\n",
    "# experiment_id = \"plus_one_degree\" # increase air temperature by 1 degree celsius\n",
    "# experiment_id = \"double_precipitation\" # increase precipitation by a factor of two\n",
    "# Spaces or special characters in the experiment ID are not allowed (eg. \"plus_one_degree\" not \"plus one degree\")\n",
    "AP_experiment_id = \"standard\" # no spaces or special characters. \n",
    "\n",
    "# Modify the input weather data\n",
    "# Multiplicative factors (mf) (ex: Twice as much precipitation) \n",
    "AP_TA_mf = 1 # Air temperature \n",
    "AP_RH_mf = 1 # Relative humidity\n",
    "AP_WS_mf = 1 # Wind speed\n",
    "AP_P_mf = 1 # Precipitation\n",
    "AP_SWR_mf = 1 # Incoming shortwave radiation\n",
    "AP_LWR_mf = 1 # Incoming longwave radiation \n",
    "\n",
    "# Additive factors (af) (ex: Make air temperature  degree warmer)\n",
    "AP_TA_af = 0 # Air temperature (degrees C)\n",
    "AP_RH_af = 0 # Relative humidity (dimensionless, 0 - 1)\n",
    "AP_WS_af = 0 # Wind speed (m/s)\n",
    "AP_P_af = 0 # Precipitation (mm/hr)\n",
    "AP_SWR_af = 0 # Incoming shortwave radiation (W/m^2)\n",
    "AP_LWR_af = 0 # Incoming longwave radiation (W/m^2)\n",
    "\n",
    "# Experiment end time (\"YYYY-MM-DDTHH:MM:SS\"). Note that the simulations starts at 1980-01-01T00:00:00\n",
    "AP_end = \"2007-01-01T00:00:00\"\n",
    "\n",
    "# Simulation location tag, do not edit. \n",
    "AP_site = \"AP\""
   ]
  },
  {
   "cell_type": "markdown",
   "metadata": {},
   "source": [
    "### DO NOT EDIT BELOW - non user editable commands. This tells SNOWPACK to start."
   ]
  },
  {
   "cell_type": "code",
   "execution_count": null,
   "metadata": {
    "scrolled": true
   },
   "outputs": [],
   "source": [
    "%%bash -s \"$AP_experiment_id\" \"$AP_TA_mf\" \"$AP_RH_mf\" \"$AP_WS_mf\" \"$AP_P_mf\" \"$AP_SWR_mf\" \"$AP_LWR_mf\" \"$AP_TA_af\" \"$AP_RH_af\" \"$AP_WS_af\" \"$AP_P_af\" \"$AP_SWR_af\" \"$AP_LWR_af\" \"$AP_end\" \"$AP_site\" \n",
    "bash run_SNOWPACK.sh $1 $2 $3 $4 $5 $6 $7 $8 $9 ${10} ${11} ${12} ${13} ${14} ${15}"
   ]
  },
  {
   "cell_type": "markdown",
   "metadata": {},
   "source": [
    "# Visualize SNOWPACK model output. \n",
    "### For this you need to define which model variable you want to visualize, examples:\n",
    "##### <span style=\"font-size:larger;\">Snow Depth:</span> `viz_var = \"HS_mod\"; viz_units = \"cm\"`\n",
    "##### <span style=\"font-size:larger;\">Snow Water Equivalent:</span> `viz_var = \"SWE\"; viz_units = \"mm\"`\n",
    "##### <span style=\"font-size:larger;\">Albedo:</span> `viz_var = \"pAlbedo\"; viz_units = \"dimensionless\"`\n",
    "##### <span style=\"font-size:larger;\">Surface Temperature:</span> `viz_var = \"TSS_mod\"; viz_units = \"C\"`\n",
    "##### <span style=\"font-size:larger;\">Air Temperature:</span> `viz_var = \"TA\"; viz_units = \"C\"`\n"
   ]
  },
  {
   "cell_type": "code",
   "execution_count": null,
   "metadata": {},
   "outputs": [],
   "source": [
    "# Edit Here: Visualization variable\n",
    "viz_var = \"TSS_mod\"; viz_units = \"C\"\n",
    "\n",
    "# SNOWPACK output file paths\n",
    "AP_smet_path = \"AP/\" + AP_experiment_id + \"/output/AP_\" + AP_experiment_id + \".smet\"\n",
    "SP_smet_path = \"SP/\" + SP_experiment_id + \"/output/SP_\" + SP_experiment_id + \".smet\"\n",
    "\n",
    "# Retrieve data\n",
    "AP_var= snowpack_1D.get_smet_timeseries(AP_smet_path, viz_var)\n",
    "SP_var = snowpack_1D.get_smet_timeseries(SP_smet_path, viz_var)\n",
    "\n",
    "# Figure \n",
    "fig1 = plt.figure(1, figsize=(15,5))\n",
    "plt.plot(AP_var, label=\"Antarctic Peninsula\")\n",
    "plt.plot(SP_var, label=\"South Pole\")\n",
    "plt.ylabel(viz_var + \" [\" + viz_units + \"]\", fontsize=16)\n",
    "plt.legend()\n",
    "plt.grid()"
   ]
  },
  {
   "cell_type": "markdown",
   "metadata": {},
   "source": [
    "## We can also visualize SNOWPACK output by downloading the output files and uploading them to https://run.niviz.org. Follow directions below:\n",
    "### First, download the SNOWPACK ouput .pro and .smet files by clicking the links below."
   ]
  },
  {
   "cell_type": "code",
   "execution_count": null,
   "metadata": {},
   "outputs": [],
   "source": [
    "drylake_pro_path = \"drylake/\" + drylake_experiment_id + \"/output/drylake_\" + drylake_experiment_id + \".pro\"\n",
    "FileLink(drylake_pro_path)"
   ]
  },
  {
   "cell_type": "code",
   "execution_count": null,
   "metadata": {},
   "outputs": [],
   "source": [
    "drylake_smet_path = \"drylake/\" + drylake_experiment_id + \"/output/drylake_\" + drylake_experiment_id + \".smet\"\n",
    "FileLink(drylake_smet_path)"
   ]
  },
  {
   "cell_type": "code",
   "execution_count": null,
   "metadata": {},
   "outputs": [],
   "source": [
    "AP_pro_path = \"AP/\" + AP_experiment_id + \"/output/AP_\" + AP_experiment_id + \".pro\"\n",
    "FileLink(AP_pro_path)"
   ]
  },
  {
   "cell_type": "code",
   "execution_count": null,
   "metadata": {},
   "outputs": [],
   "source": [
    "AP_smet_path = \"AP/\" + AP_experiment_id + \"/output/AP_\" + AP_experiment_id + \".smet\"\n",
    "FileLink(AP_smet_path)"
   ]
  },
  {
   "cell_type": "code",
   "execution_count": null,
   "metadata": {},
   "outputs": [],
   "source": [
    "SP_pro_path = \"SP/\" + SP_experiment_id + \"/output/SP_\" + SP_experiment_id + \".pro\"\n",
    "FileLink(SP_pro_path)"
   ]
  },
  {
   "cell_type": "code",
   "execution_count": null,
   "metadata": {},
   "outputs": [],
   "source": [
    "SP_smet_path = \"SP/\" + SP_experiment_id + \"/output/SP_\" + SP_experiment_id + \".smet\"\n",
    "FileLink(SP_smet_path)"
   ]
  },
  {
   "cell_type": "markdown",
   "metadata": {},
   "source": [
    "### Next, open https://run.niviz.org in a web browser and upload one of the files you just downloaded. "
   ]
  },
  {
   "cell_type": "code",
   "execution_count": null,
   "metadata": {},
   "outputs": [],
   "source": [
    "Image(filename='images/image_1.png')"
   ]
  },
  {
   "cell_type": "markdown",
   "metadata": {},
   "source": [
    "### This should give you a profile visualization similar to this."
   ]
  },
  {
   "cell_type": "code",
   "execution_count": null,
   "metadata": {},
   "outputs": [],
   "source": [
    "Image(filename='images/image_2.png')"
   ]
  },
  {
   "cell_type": "markdown",
   "metadata": {},
   "source": [
    "### You can change the variable of interest by selecting from the drop down menu. "
   ]
  },
  {
   "cell_type": "code",
   "execution_count": null,
   "metadata": {
    "scrolled": false
   },
   "outputs": [],
   "source": [
    "Image(filename='images/image_3.png')"
   ]
  },
  {
   "cell_type": "markdown",
   "metadata": {},
   "source": [
    "### You can also retrieve a timeseries of snow density at one meter depth by selecting \"Extract Time Series\""
   ]
  },
  {
   "cell_type": "code",
   "execution_count": null,
   "metadata": {},
   "outputs": [],
   "source": [
    "Image(filename='images/image_4.png')"
   ]
  },
  {
   "cell_type": "code",
   "execution_count": null,
   "metadata": {},
   "outputs": [],
   "source": [
    "Image(filename='images/image_5.png')"
   ]
  },
  {
   "cell_type": "code",
   "execution_count": null,
   "metadata": {},
   "outputs": [],
   "source": [
    "Image(filename='images/image_6.png')"
   ]
  }
 ],
 "metadata": {
  "kernelspec": {
   "display_name": "Python 3",
   "language": "python",
   "name": "python3"
  },
  "language_info": {
   "codemirror_mode": {
    "name": "ipython",
    "version": 3
   },
   "file_extension": ".py",
   "mimetype": "text/x-python",
   "name": "python",
   "nbconvert_exporter": "python",
   "pygments_lexer": "ipython3",
   "version": "3.7.3"
  }
 },
 "nbformat": 4,
 "nbformat_minor": 4
}
