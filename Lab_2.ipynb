{
 "cells": [
  {
   "cell_type": "markdown",
   "metadata": {},
   "source": [
    "# Numerical Snow Modeling with SNOWPACK\n",
    "\n",
    "#### In this notebook we will set up a numerical snow model named SNOWPACK. We will then run the model and analyze the results. Note that the numerical simulations require several minutes to run.\n",
    "\n",
    "#### Numerical models are a commonly used tool to understand ice sheets. They contribute to our current and past understanding of ice sheet behavior. Notebaly they also allow us to make predictions about the future. Numerical models combine our physical understanding of snow and ice along with mathematics and computers to produce detailed estimates of snow and ice properties such as temperature and density. "
   ]
  },
  {
   "cell_type": "code",
   "execution_count": 1,
   "metadata": {},
   "outputs": [],
   "source": [
    "import matplotlib.pyplot as plt\n",
    "from Load_and_Process_Datasets import *\n",
    "from IPython.display import Image\n",
    "from IPython.display import FileLink, FileLinks"
   ]
  },
  {
   "cell_type": "markdown",
   "metadata": {},
   "source": [
    "# Tea Experiment: SNOWPACK at Steamboat Springs, Drylake, \n",
    "#### EDIT BELOW - user editable variables. Change this to configure your SNOWPACK simulation. Please note that for each new experiment, you need to define a new exepriment id, otherwise the previous simulation will be deleted! \n",
    "\n",
    "#### You can modify the SNOWPACK simulation by perturbing the input weather data via multiplicative and/or additive factors. For example, setting the air temperature multiplicative factor to 1.1 will multiply the air temperature (in Kelvin) by 1.1. Likewise, setting the the incoming shortwave radiation additive factor to 50, will increase the incoming shortwave radiation by 50 Wm$^{-2}$. Note that although it possible to modify the weather data in rather extreme ways (e.g. setting the air temperature multiplicative factor to 100), SNOWPACK will likely encounter numerical stability and or physics issues, as the model is designed for typical alpine and polar meteorological conditions! In fact, checks inside SNOWPACK may decide your modification is unrealistic and throw it out. In short, providing SNOWPACK with extereme weather data may cause SNOWPACK act strangely. With great power, comes great responsibility! :p"
   ]
  },
  {
   "cell_type": "code",
   "execution_count": 2,
   "metadata": {},
   "outputs": [],
   "source": [
    "# Experiment ID, change this to give each simulation an informative identification and unique folder\n",
    "# examples: \n",
    "# experiment_id = \"standard\" # no modifications to weather data\n",
    "# experiment_id = \"plus_one_degree\" # increase air temperature by 1 degree celsius\n",
    "# experiment_id = \"double_precipitation\" # increase precipitation by a factor of two\n",
    "# Spaces or special characters in the experiment ID are not allowed (eg. \"plus_one_degree\" not \"plus one degree\")\n",
    "drylake_tea_experiment_id = \"standard\" # no spaces or special characters. \n",
    "\n",
    "# Modify the input weather data\n",
    "# Multiplicative factors (mf) (ex: Twice as much precipitation) \n",
    "drylake_tea_TA_mf = 1 # Air temperature \n",
    "drylake_tea_RH_mf = 1 # Relative humidity \n",
    "drylake_tea_WS_mf = 1 # Wind speed \n",
    "drylake_tea_P_mf = 1 # Precipitation \n",
    "drylake_tea_SWR_mf = 1 # Incoming shortwave radiation \n",
    "drylake_tea_LWR_mf = 1 # Incoming longwave radiation \n",
    "\n",
    "# Additive factors (af) (ex: Make air temperature 1 degree warmer)\n",
    "drylake_tea_TA_af = 0 # Air temperature (degrees C)\n",
    "drylake_tea_RH_af = 0 # Relative humidity (dimensionless, 0 - 1)\n",
    "drylake_tea_WS_af = 0 # Wind speed (m/s)\n",
    "drylake_tea_P_af = 0 # Precipitation (mm/hr)\n",
    "drylake_tea_SWR_af = 0 # Incoming shortwave radiation (W/m^2)\n",
    "drylake_tea_LWR_af = 0 # Incoming longwave radiation (W/m^2)\n",
    "\n",
    "# Experiment end time, do not edit.\n",
    "drylake_tea_end = \"2020-02-23T15:00\"\n",
    "\n",
    "# Simulation location tag, do not edit. \n",
    "drylake_tea_site = \"drylake_tea\""
   ]
  },
  {
   "cell_type": "markdown",
   "metadata": {},
   "source": [
    "### DO NOT EDIT BELOW - non user editable commands. This tells SNOWPACK to start."
   ]
  },
  {
   "cell_type": "code",
   "execution_count": 3,
   "metadata": {
    "scrolled": true
   },
   "outputs": [
    {
     "name": "stdout",
     "output_type": "stream",
     "text": [
      "[i] [2020-03-03T23:24:54] ---> Start SNOWPACK w/ soil layers in RESEARCH mode\n",
      "[i] []                 ../../snowpack/Source/snowpack/bin/snowpack compiled on Feb 25 2020 at 18:54:15\n",
      "[i] []                 Experiment : standard\n",
      "[i] []                 Output dir : ./output\n",
      "\n",
      "[i] []                 Run on meteo station drylake\n",
      "[i] []                 Reading snow cover data for station drylake\n",
      "[i] []                 Finished initializing station drylake\n",
      "[i] []                 Erased 1 *.haz file(s)\n",
      "[i] []                 Erased 1 *.sno file(s)\n",
      "[i] []                 Data in *.pro file(s) may be overwritten\n",
      "[i] []                 Data in *.smet file(s) may be overwritten\n",
      "[i] []                 Erased ./output/drylake_standard.ini\n",
      "[i] [2020-03-03T23:24:54] ---> Start simulation for drylake on 2020-02-23T14:55:00-06:00\n",
      "[i] []                 End date specified by user: 2020-02-23T15:00:00-06:00\n",
      "[i] []                 Integration step length: 5.000000 min\n",
      "[i] [2020-03-03T23:24:55] ---> Writing data to sno file(s) for drylake (station drylake) on 2020-02-23T15:00:00\n",
      "[i] []                 Total time to read meteo data : 0.034609 s\n",
      "[i] []                 Runtime for station drylake: 0.042009 s\n",
      "\n",
      "[i] []                 STARTED  running SLF RESEARCH Snowpack Model on Tue Mar  3 23:24:54 2020\n",
      "                       ========================================================================\n",
      "                       FINISHED running SLF RESEARCH Snowpack Model on Tue Mar  3 23:24:55 2020\n",
      "\n",
      "updating: output/ (stored 0%)\n",
      "updating: output/drylake_standard.pro (deflated 68%)\n",
      "updating: output/drylake_standard.smet (deflated 60%)\n",
      "updating: output/drylake_standard.haz (deflated 93%)\n",
      "updating: output/drylake_standard.ini (deflated 63%)\n",
      "updating: output/drylake_standard.sno (deflated 81%)\n",
      "updating: output/README.txt (deflated 4%)\n"
     ]
    }
   ],
   "source": [
    "%%bash -s \"$drylake_tea_experiment_id\" \"$drylake_tea_TA_mf\" \"$drylake_tea_RH_mf\" \"$drylake_tea_WS_mf\" \"$drylake_tea_P_mf\" \"$drylake_tea_SWR_mf\" \"$drylake_tea_LWR_mf\" \"$drylake_tea_TA_af\" \"$drylake_tea_RH_af\" \"$drylake_tea_WS_af\" \"$drylake_tea_P_af\" \"$drylake_tea_SWR_af\" \"$drylake_tea_LWR_af\" \"$drylake_tea_end\" \"$drylake_tea_site\" \n",
    "cp drylake_tea/lakeeldora.smet drylake_tea/${1}/\n",
    "bash run_SNOWPACK.sh $1 $2 $3 $4 $5 $6 $7 $8 $9 ${10} ${11} ${12} ${13} ${14} ${15}"
   ]
  },
  {
   "cell_type": "markdown",
   "metadata": {},
   "source": [
    "# SNOWPACK at Greenland Site 1\n",
    "#### EDIT BELOW - user editable variables. Change this to configure your SNOWPACK simulation. Please note that for each new experiment, you need to define a new exepriment id, otherwise the previous simulation will be deleted! \n",
    "\n",
    "#### You can modify the SNOWPACK simulation by perturbing the input weather data via multiplicative and/or additive factors. For example, setting the air temperature multiplicative factor to 1.1 will multiply the air temperature (in Kelvin) by 1.1. Likewise, setting the the incoming shortwave radiation additive factor to 50, will increase the incoming shortwave radiation by 50 Wm$^{-2}$. Note that although it possible to modify the weather data in rather extreme ways (e.g. setting the air temperature multiplicative factor to 100), SNOWPACK will likely encounter numerical stability and or physics issues, as the model is designed for typical alpine and polar meteorological conditions! In fact, checks inside SNOWPACK may decide your modification is unrealistic and throw it out. In short, providing SNOWPACK with extereme weather data may cause SNOWPACK act strangely. With great power, comes great responsibility! :p"
   ]
  },
  {
   "cell_type": "code",
   "execution_count": 12,
   "metadata": {},
   "outputs": [],
   "source": [
    "# Experiment ID, change this to give each simulation an informative identification and unique folder\n",
    "# examples: \n",
    "# experiment_id = \"standard\" # no modifications to weather data\n",
    "# experiment_id = \"plus_one_degree\" # increase air temperature by 1 degree celsius\n",
    "# experiment_id = \"double_precipitation\" # increase precipitation by a factor of two\n",
    "# Spaces or special characters in the experiment ID are not allowed (eg. \"plus_one_degree\" not \"plus one degree\")\n",
    "G1_experiment_id = \"standard\" # no spaces or special characters. \n",
    "\n",
    "# Modify the input weather data\n",
    "# Multiplicative factors (mf) (ex: Twice as much precipitation) \n",
    "G1_TA_mf = 1 # Air temperature \n",
    "G1_RH_mf = 1 # Relative humidity\n",
    "G1_WS_mf = 1 # Wind speed\n",
    "G1_P_mf = 1 # Precipitation\n",
    "G1_SWR_mf = 1 # Incoming shortwave radiation\n",
    "G1_LWR_mf = 1 # Incoming longwave radiation \n",
    "\n",
    "# Additive factors (af) (ex: Make air temperature 1 degree warmer)\n",
    "G1_TA_af = 0 # Air temperature (degrees C)\n",
    "G1_RH_af = 0 # Relative humidity (dimensionless, 0 - 1)\n",
    "G1_WS_af = 0 # Wind speed (m/s)\n",
    "G1_P_af = 0 # Precipitation (mm/hr)\n",
    "G1_SWR_af = 0 # Incoming shortwave radiation (W/m^2)\n",
    "G1_LWR_af = 0 # Incoming longwave radiation (W/m^2)\n",
    "\n",
    "# Experiment end time (\"YYYY-MM-DDTHH:MM:SS\"). Note that the simulations starts at 1980-01-01T00:00:00\n",
    "G1_end = \"2017-12-31T21:00:00\"\n",
    "\n",
    "# Simulation location tag, do not edit. \n",
    "G1_site = \"G1\""
   ]
  },
  {
   "cell_type": "markdown",
   "metadata": {},
   "source": [
    "### DO NOT EDIT BELOW - non user editable commands. This tells SNOWPACK to start."
   ]
  },
  {
   "cell_type": "code",
   "execution_count": 13,
   "metadata": {
    "scrolled": true
   },
   "outputs": [
    {
     "name": "stdout",
     "output_type": "stream",
     "text": [
      "[i] [2020-03-03T23:28:38] ---> Start SNOWPACK in RESEARCH mode\n",
      "[i] []                 ../../snowpack/Source/snowpack/bin/snowpack compiled on Feb 25 2020 at 18:54:15\n",
      "[i] []                 Experiment : standard\n",
      "[i] []                 Output dir : ./output\n",
      "\n",
      "[i] []                 Run on meteo station G1\n",
      "[i] []                 Reading snow cover data for station G1\n",
      "[i] []                 Finished initializing station G1\n",
      "[i] []                 Erased 1 *.haz file(s)\n",
      "[i] []                 Erased 1 *.sno file(s)\n",
      "[i] []                 Data in *.pro file(s) may be overwritten\n",
      "[i] []                 Data in *.smet file(s) may be overwritten\n",
      "[i] []                 Erased ./output/G1_standard.ini\n",
      "[i] [2020-03-03T23:28:38] ---> Start simulation for G1 on 2010-12-31T23:30:00+00:00\n",
      "[i] []                 End date specified by user: 2017-12-31T21:00:00+00:00\n",
      "[i] []                 Integration step length: 30.000000 min\n",
      "[i] [2011-01-16T00:00:00] ---> Station G1 (1 slope(s)): advanced to 16.01.2011 00:00:00 station time\n",
      "[i] [2011-01-31T00:00:00] ---> Station G1 (1 slope(s)): advanced to 31.01.2011 00:00:00 station time\n",
      "[i] [2011-02-15T00:00:00] ---> Station G1 (1 slope(s)): advanced to 15.02.2011 00:00:00 station time\n",
      "[i] [2011-03-02T00:00:00] ---> Station G1 (1 slope(s)): advanced to 02.03.2011 00:00:00 station time\n",
      "[i] [2011-03-17T00:00:00] ---> Station G1 (1 slope(s)): advanced to 17.03.2011 00:00:00 station time\n",
      "[i] [2011-04-01T00:00:00] ---> Station G1 (1 slope(s)): advanced to 01.04.2011 00:00:00 station time\n",
      "[i] [2011-04-16T00:00:00] ---> Station G1 (1 slope(s)): advanced to 16.04.2011 00:00:00 station time\n",
      "[i] [2011-05-01T00:00:00] ---> Station G1 (1 slope(s)): advanced to 01.05.2011 00:00:00 station time\n",
      "[i] [2011-05-16T00:00:00] ---> Station G1 (1 slope(s)): advanced to 16.05.2011 00:00:00 station time\n",
      "[i] [2011-05-31T00:00:00] ---> Station G1 (1 slope(s)): advanced to 31.05.2011 00:00:00 station time\n",
      "[i] [2011-06-15T00:00:00] ---> Station G1 (1 slope(s)): advanced to 15.06.2011 00:00:00 station time\n",
      "[i] [2011-06-30T00:00:00] ---> Station G1 (1 slope(s)): advanced to 30.06.2011 00:00:00 station time\n",
      "[i] [2011-07-15T00:00:00] ---> Station G1 (1 slope(s)): advanced to 15.07.2011 00:00:00 station time\n",
      "[i] [2011-07-30T00:00:00] ---> Station G1 (1 slope(s)): advanced to 30.07.2011 00:00:00 station time\n",
      "[i] [2011-08-14T00:00:00] ---> Station G1 (1 slope(s)): advanced to 14.08.2011 00:00:00 station time\n",
      "[i] [2011-08-29T00:00:00] ---> Station G1 (1 slope(s)): advanced to 29.08.2011 00:00:00 station time\n",
      "[i] [2011-09-13T00:00:00] ---> Station G1 (1 slope(s)): advanced to 13.09.2011 00:00:00 station time\n",
      "[i] [2011-09-28T00:00:00] ---> Station G1 (1 slope(s)): advanced to 28.09.2011 00:00:00 station time\n",
      "[i] [2011-10-13T00:00:00] ---> Station G1 (1 slope(s)): advanced to 13.10.2011 00:00:00 station time\n",
      "[i] [2011-10-28T00:00:00] ---> Station G1 (1 slope(s)): advanced to 28.10.2011 00:00:00 station time\n",
      "[i] [2011-11-12T00:00:00] ---> Station G1 (1 slope(s)): advanced to 12.11.2011 00:00:00 station time\n",
      "[i] [2011-11-27T00:00:00] ---> Station G1 (1 slope(s)): advanced to 27.11.2011 00:00:00 station time\n",
      "[i] [2011-12-12T00:00:00] ---> Station G1 (1 slope(s)): advanced to 12.12.2011 00:00:00 station time\n",
      "[i] [2011-12-27T00:00:00] ---> Station G1 (1 slope(s)): advanced to 27.12.2011 00:00:00 station time\n",
      "[i] [2012-01-11T00:00:00] ---> Station G1 (1 slope(s)): advanced to 11.01.2012 00:00:00 station time\n",
      "[i] [2012-01-26T00:00:00] ---> Station G1 (1 slope(s)): advanced to 26.01.2012 00:00:00 station time\n",
      "[i] [2012-02-10T00:00:00] ---> Station G1 (1 slope(s)): advanced to 10.02.2012 00:00:00 station time\n",
      "[i] [2012-02-25T00:00:00] ---> Station G1 (1 slope(s)): advanced to 25.02.2012 00:00:00 station time\n",
      "[i] [2012-03-11T00:00:00] ---> Station G1 (1 slope(s)): advanced to 11.03.2012 00:00:00 station time\n",
      "[i] [2012-03-26T00:00:00] ---> Station G1 (1 slope(s)): advanced to 26.03.2012 00:00:00 station time\n",
      "[i] [2012-04-10T00:00:00] ---> Station G1 (1 slope(s)): advanced to 10.04.2012 00:00:00 station time\n",
      "[i] [2012-04-25T00:00:00] ---> Station G1 (1 slope(s)): advanced to 25.04.2012 00:00:00 station time\n",
      "[i] [2012-05-10T00:00:00] ---> Station G1 (1 slope(s)): advanced to 10.05.2012 00:00:00 station time\n",
      "[i] [2012-05-25T00:00:00] ---> Station G1 (1 slope(s)): advanced to 25.05.2012 00:00:00 station time\n",
      "[i] [2012-06-09T00:00:00] ---> Station G1 (1 slope(s)): advanced to 09.06.2012 00:00:00 station time\n",
      "[i] [2012-06-24T00:00:00] ---> Station G1 (1 slope(s)): advanced to 24.06.2012 00:00:00 station time\n",
      "[i] [2012-07-09T00:00:00] ---> Station G1 (1 slope(s)): advanced to 09.07.2012 00:00:00 station time\n",
      "[i] [2012-07-24T00:00:00] ---> Station G1 (1 slope(s)): advanced to 24.07.2012 00:00:00 station time\n",
      "[i] [2012-08-08T00:00:00] ---> Station G1 (1 slope(s)): advanced to 08.08.2012 00:00:00 station time\n",
      "[i] [2012-08-23T00:00:00] ---> Station G1 (1 slope(s)): advanced to 23.08.2012 00:00:00 station time\n",
      "[i] [2012-09-07T00:00:00] ---> Station G1 (1 slope(s)): advanced to 07.09.2012 00:00:00 station time\n",
      "[i] [2012-09-22T00:00:00] ---> Station G1 (1 slope(s)): advanced to 22.09.2012 00:00:00 station time\n",
      "[i] [2012-10-07T00:00:00] ---> Station G1 (1 slope(s)): advanced to 07.10.2012 00:00:00 station time\n",
      "[i] [2012-10-22T00:00:00] ---> Station G1 (1 slope(s)): advanced to 22.10.2012 00:00:00 station time\n",
      "[i] [2012-11-06T00:00:00] ---> Station G1 (1 slope(s)): advanced to 06.11.2012 00:00:00 station time\n",
      "[i] [2012-11-21T00:00:00] ---> Station G1 (1 slope(s)): advanced to 21.11.2012 00:00:00 station time\n",
      "[i] [2012-12-06T00:00:00] ---> Station G1 (1 slope(s)): advanced to 06.12.2012 00:00:00 station time\n",
      "[i] [2012-12-21T00:00:00] ---> Station G1 (1 slope(s)): advanced to 21.12.2012 00:00:00 station time\n",
      "[i] [2013-01-05T00:00:00] ---> Station G1 (1 slope(s)): advanced to 05.01.2013 00:00:00 station time\n",
      "[i] [2013-01-20T00:00:00] ---> Station G1 (1 slope(s)): advanced to 20.01.2013 00:00:00 station time\n",
      "[i] [2013-02-04T00:00:00] ---> Station G1 (1 slope(s)): advanced to 04.02.2013 00:00:00 station time\n",
      "[i] [2013-02-19T00:00:00] ---> Station G1 (1 slope(s)): advanced to 19.02.2013 00:00:00 station time\n",
      "[i] [2013-03-06T00:00:00] ---> Station G1 (1 slope(s)): advanced to 06.03.2013 00:00:00 station time\n",
      "[i] [2013-03-21T00:00:00] ---> Station G1 (1 slope(s)): advanced to 21.03.2013 00:00:00 station time\n",
      "[i] [2013-04-05T00:00:00] ---> Station G1 (1 slope(s)): advanced to 05.04.2013 00:00:00 station time\n",
      "[i] [2013-04-20T00:00:00] ---> Station G1 (1 slope(s)): advanced to 20.04.2013 00:00:00 station time\n",
      "[i] [2013-05-05T00:00:00] ---> Station G1 (1 slope(s)): advanced to 05.05.2013 00:00:00 station time\n",
      "[i] [2013-05-20T00:00:00] ---> Station G1 (1 slope(s)): advanced to 20.05.2013 00:00:00 station time\n",
      "[i] [2013-06-04T00:00:00] ---> Station G1 (1 slope(s)): advanced to 04.06.2013 00:00:00 station time\n",
      "[i] [2013-06-19T00:00:00] ---> Station G1 (1 slope(s)): advanced to 19.06.2013 00:00:00 station time\n",
      "[i] [2013-07-04T00:00:00] ---> Station G1 (1 slope(s)): advanced to 04.07.2013 00:00:00 station time\n",
      "[i] [2013-07-19T00:00:00] ---> Station G1 (1 slope(s)): advanced to 19.07.2013 00:00:00 station time\n",
      "[i] [2013-08-03T00:00:00] ---> Station G1 (1 slope(s)): advanced to 03.08.2013 00:00:00 station time\n",
      "[i] [2013-08-18T00:00:00] ---> Station G1 (1 slope(s)): advanced to 18.08.2013 00:00:00 station time\n",
      "[i] [2013-09-02T00:00:00] ---> Station G1 (1 slope(s)): advanced to 02.09.2013 00:00:00 station time\n",
      "[i] [2013-09-17T00:00:00] ---> Station G1 (1 slope(s)): advanced to 17.09.2013 00:00:00 station time\n",
      "[i] [2013-10-02T00:00:00] ---> Station G1 (1 slope(s)): advanced to 02.10.2013 00:00:00 station time\n",
      "[i] [2013-10-17T00:00:00] ---> Station G1 (1 slope(s)): advanced to 17.10.2013 00:00:00 station time\n",
      "[i] [2013-11-01T00:00:00] ---> Station G1 (1 slope(s)): advanced to 01.11.2013 00:00:00 station time\n",
      "[i] [2013-11-16T00:00:00] ---> Station G1 (1 slope(s)): advanced to 16.11.2013 00:00:00 station time\n",
      "[i] [2013-12-01T00:00:00] ---> Station G1 (1 slope(s)): advanced to 01.12.2013 00:00:00 station time\n",
      "[i] [2013-12-16T00:00:00] ---> Station G1 (1 slope(s)): advanced to 16.12.2013 00:00:00 station time\n",
      "[i] [2013-12-31T00:00:00] ---> Station G1 (1 slope(s)): advanced to 31.12.2013 00:00:00 station time\n",
      "[i] [2014-01-15T00:00:00] ---> Station G1 (1 slope(s)): advanced to 15.01.2014 00:00:00 station time\n",
      "[i] [2014-01-30T00:00:00] ---> Station G1 (1 slope(s)): advanced to 30.01.2014 00:00:00 station time\n",
      "[i] [2014-02-14T00:00:00] ---> Station G1 (1 slope(s)): advanced to 14.02.2014 00:00:00 station time\n",
      "[i] [2014-03-01T00:00:00] ---> Station G1 (1 slope(s)): advanced to 01.03.2014 00:00:00 station time\n",
      "[i] [2014-03-16T00:00:00] ---> Station G1 (1 slope(s)): advanced to 16.03.2014 00:00:00 station time\n",
      "[i] [2014-03-31T00:00:00] ---> Station G1 (1 slope(s)): advanced to 31.03.2014 00:00:00 station time\n",
      "[i] [2014-04-15T00:00:00] ---> Station G1 (1 slope(s)): advanced to 15.04.2014 00:00:00 station time\n",
      "[i] [2014-04-30T00:00:00] ---> Station G1 (1 slope(s)): advanced to 30.04.2014 00:00:00 station time\n",
      "[i] [2014-05-15T00:00:00] ---> Station G1 (1 slope(s)): advanced to 15.05.2014 00:00:00 station time\n",
      "[i] [2014-05-30T00:00:00] ---> Station G1 (1 slope(s)): advanced to 30.05.2014 00:00:00 station time\n",
      "[i] [2014-06-14T00:00:00] ---> Station G1 (1 slope(s)): advanced to 14.06.2014 00:00:00 station time\n",
      "[i] [2014-06-29T00:00:00] ---> Station G1 (1 slope(s)): advanced to 29.06.2014 00:00:00 station time\n",
      "[i] [2014-07-14T00:00:00] ---> Station G1 (1 slope(s)): advanced to 14.07.2014 00:00:00 station time\n",
      "[i] [2014-07-29T00:00:00] ---> Station G1 (1 slope(s)): advanced to 29.07.2014 00:00:00 station time\n",
      "[i] [2014-08-13T00:00:00] ---> Station G1 (1 slope(s)): advanced to 13.08.2014 00:00:00 station time\n",
      "[i] [2014-08-28T00:00:00] ---> Station G1 (1 slope(s)): advanced to 28.08.2014 00:00:00 station time\n",
      "[i] [2014-09-12T00:00:00] ---> Station G1 (1 slope(s)): advanced to 12.09.2014 00:00:00 station time\n",
      "[i] [2014-09-27T00:00:00] ---> Station G1 (1 slope(s)): advanced to 27.09.2014 00:00:00 station time\n",
      "[i] [2014-10-12T00:00:00] ---> Station G1 (1 slope(s)): advanced to 12.10.2014 00:00:00 station time\n",
      "[i] [2014-10-27T00:00:00] ---> Station G1 (1 slope(s)): advanced to 27.10.2014 00:00:00 station time\n",
      "[i] [2014-11-11T00:00:00] ---> Station G1 (1 slope(s)): advanced to 11.11.2014 00:00:00 station time\n",
      "[i] [2014-11-26T00:00:00] ---> Station G1 (1 slope(s)): advanced to 26.11.2014 00:00:00 station time\n",
      "[i] [2014-12-11T00:00:00] ---> Station G1 (1 slope(s)): advanced to 11.12.2014 00:00:00 station time\n",
      "[i] [2014-12-26T00:00:00] ---> Station G1 (1 slope(s)): advanced to 26.12.2014 00:00:00 station time\n",
      "[i] [2015-01-10T00:00:00] ---> Station G1 (1 slope(s)): advanced to 10.01.2015 00:00:00 station time\n",
      "[i] [2015-01-25T00:00:00] ---> Station G1 (1 slope(s)): advanced to 25.01.2015 00:00:00 station time\n",
      "[i] [2015-02-09T00:00:00] ---> Station G1 (1 slope(s)): advanced to 09.02.2015 00:00:00 station time\n",
      "[i] [2015-02-24T00:00:00] ---> Station G1 (1 slope(s)): advanced to 24.02.2015 00:00:00 station time\n",
      "[i] [2015-03-11T00:00:00] ---> Station G1 (1 slope(s)): advanced to 11.03.2015 00:00:00 station time\n",
      "[i] [2015-03-26T00:00:00] ---> Station G1 (1 slope(s)): advanced to 26.03.2015 00:00:00 station time\n",
      "[i] [2015-04-10T00:00:00] ---> Station G1 (1 slope(s)): advanced to 10.04.2015 00:00:00 station time\n",
      "[i] [2015-04-25T00:00:00] ---> Station G1 (1 slope(s)): advanced to 25.04.2015 00:00:00 station time\n",
      "[i] [2015-05-10T00:00:00] ---> Station G1 (1 slope(s)): advanced to 10.05.2015 00:00:00 station time\n",
      "[i] [2015-05-25T00:00:00] ---> Station G1 (1 slope(s)): advanced to 25.05.2015 00:00:00 station time\n",
      "[i] [2015-06-09T00:00:00] ---> Station G1 (1 slope(s)): advanced to 09.06.2015 00:00:00 station time\n",
      "[i] [2015-06-24T00:00:00] ---> Station G1 (1 slope(s)): advanced to 24.06.2015 00:00:00 station time\n",
      "[i] [2015-07-09T00:00:00] ---> Station G1 (1 slope(s)): advanced to 09.07.2015 00:00:00 station time\n",
      "[i] [2015-07-24T00:00:00] ---> Station G1 (1 slope(s)): advanced to 24.07.2015 00:00:00 station time\n",
      "[i] [2015-08-08T00:00:00] ---> Station G1 (1 slope(s)): advanced to 08.08.2015 00:00:00 station time\n",
      "[i] [2015-08-23T00:00:00] ---> Station G1 (1 slope(s)): advanced to 23.08.2015 00:00:00 station time\n",
      "[i] [2015-09-07T00:00:00] ---> Station G1 (1 slope(s)): advanced to 07.09.2015 00:00:00 station time\n",
      "[i] [2015-09-22T00:00:00] ---> Station G1 (1 slope(s)): advanced to 22.09.2015 00:00:00 station time\n",
      "[i] [2015-10-07T00:00:00] ---> Station G1 (1 slope(s)): advanced to 07.10.2015 00:00:00 station time\n",
      "[i] [2015-10-22T00:00:00] ---> Station G1 (1 slope(s)): advanced to 22.10.2015 00:00:00 station time\n",
      "[i] [2015-11-06T00:00:00] ---> Station G1 (1 slope(s)): advanced to 06.11.2015 00:00:00 station time\n",
      "[i] [2015-11-21T00:00:00] ---> Station G1 (1 slope(s)): advanced to 21.11.2015 00:00:00 station time\n",
      "[i] [2015-12-06T00:00:00] ---> Station G1 (1 slope(s)): advanced to 06.12.2015 00:00:00 station time\n",
      "[i] [2015-12-21T00:00:00] ---> Station G1 (1 slope(s)): advanced to 21.12.2015 00:00:00 station time\n",
      "[i] [2016-01-05T00:00:00] ---> Station G1 (1 slope(s)): advanced to 05.01.2016 00:00:00 station time\n",
      "[i] [2016-01-20T00:00:00] ---> Station G1 (1 slope(s)): advanced to 20.01.2016 00:00:00 station time\n",
      "[i] [2016-02-04T00:00:00] ---> Station G1 (1 slope(s)): advanced to 04.02.2016 00:00:00 station time\n",
      "[i] [2016-02-19T00:00:00] ---> Station G1 (1 slope(s)): advanced to 19.02.2016 00:00:00 station time\n",
      "[i] [2016-03-05T00:00:00] ---> Station G1 (1 slope(s)): advanced to 05.03.2016 00:00:00 station time\n",
      "[i] [2016-03-20T00:00:00] ---> Station G1 (1 slope(s)): advanced to 20.03.2016 00:00:00 station time\n",
      "[i] [2016-04-04T00:00:00] ---> Station G1 (1 slope(s)): advanced to 04.04.2016 00:00:00 station time\n",
      "[i] [2016-04-19T00:00:00] ---> Station G1 (1 slope(s)): advanced to 19.04.2016 00:00:00 station time\n",
      "[i] [2016-05-04T00:00:00] ---> Station G1 (1 slope(s)): advanced to 04.05.2016 00:00:00 station time\n",
      "[i] [2016-05-19T00:00:00] ---> Station G1 (1 slope(s)): advanced to 19.05.2016 00:00:00 station time\n",
      "[i] [2016-06-03T00:00:00] ---> Station G1 (1 slope(s)): advanced to 03.06.2016 00:00:00 station time\n",
      "[i] [2016-06-18T00:00:00] ---> Station G1 (1 slope(s)): advanced to 18.06.2016 00:00:00 station time\n",
      "[i] [2016-07-03T00:00:00] ---> Station G1 (1 slope(s)): advanced to 03.07.2016 00:00:00 station time\n",
      "[i] [2016-07-18T00:00:00] ---> Station G1 (1 slope(s)): advanced to 18.07.2016 00:00:00 station time\n",
      "[i] [2016-08-02T00:00:00] ---> Station G1 (1 slope(s)): advanced to 02.08.2016 00:00:00 station time\n",
      "[i] [2016-08-17T00:00:00] ---> Station G1 (1 slope(s)): advanced to 17.08.2016 00:00:00 station time\n",
      "[i] [2016-09-01T00:00:00] ---> Station G1 (1 slope(s)): advanced to 01.09.2016 00:00:00 station time\n",
      "[i] [2016-09-16T00:00:00] ---> Station G1 (1 slope(s)): advanced to 16.09.2016 00:00:00 station time\n",
      "[i] [2016-10-01T00:00:00] ---> Station G1 (1 slope(s)): advanced to 01.10.2016 00:00:00 station time\n",
      "[i] [2016-10-16T00:00:00] ---> Station G1 (1 slope(s)): advanced to 16.10.2016 00:00:00 station time\n",
      "[i] [2016-10-31T00:00:00] ---> Station G1 (1 slope(s)): advanced to 31.10.2016 00:00:00 station time\n",
      "[i] [2016-11-15T00:00:00] ---> Station G1 (1 slope(s)): advanced to 15.11.2016 00:00:00 station time\n",
      "[i] [2016-11-30T00:00:00] ---> Station G1 (1 slope(s)): advanced to 30.11.2016 00:00:00 station time\n",
      "[i] [2016-12-15T00:00:00] ---> Station G1 (1 slope(s)): advanced to 15.12.2016 00:00:00 station time\n",
      "[i] [2016-12-30T00:00:00] ---> Station G1 (1 slope(s)): advanced to 30.12.2016 00:00:00 station time\n",
      "[i] [2017-01-14T00:00:00] ---> Station G1 (1 slope(s)): advanced to 14.01.2017 00:00:00 station time\n",
      "[i] [2017-01-29T00:00:00] ---> Station G1 (1 slope(s)): advanced to 29.01.2017 00:00:00 station time\n",
      "[i] [2017-02-13T00:00:00] ---> Station G1 (1 slope(s)): advanced to 13.02.2017 00:00:00 station time\n",
      "[i] [2017-02-28T00:00:00] ---> Station G1 (1 slope(s)): advanced to 28.02.2017 00:00:00 station time\n",
      "[i] [2017-03-15T00:00:00] ---> Station G1 (1 slope(s)): advanced to 15.03.2017 00:00:00 station time\n",
      "[i] [2017-03-30T00:00:00] ---> Station G1 (1 slope(s)): advanced to 30.03.2017 00:00:00 station time\n",
      "[i] [2017-04-14T00:00:00] ---> Station G1 (1 slope(s)): advanced to 14.04.2017 00:00:00 station time\n",
      "[i] [2017-04-29T00:00:00] ---> Station G1 (1 slope(s)): advanced to 29.04.2017 00:00:00 station time\n",
      "[i] [2017-05-14T00:00:00] ---> Station G1 (1 slope(s)): advanced to 14.05.2017 00:00:00 station time\n",
      "[i] [2017-05-29T00:00:00] ---> Station G1 (1 slope(s)): advanced to 29.05.2017 00:00:00 station time\n",
      "[i] [2017-06-13T00:00:00] ---> Station G1 (1 slope(s)): advanced to 13.06.2017 00:00:00 station time\n",
      "[i] [2017-06-28T00:00:00] ---> Station G1 (1 slope(s)): advanced to 28.06.2017 00:00:00 station time\n",
      "[i] [2017-07-13T00:00:00] ---> Station G1 (1 slope(s)): advanced to 13.07.2017 00:00:00 station time\n",
      "[i] [2017-07-28T00:00:00] ---> Station G1 (1 slope(s)): advanced to 28.07.2017 00:00:00 station time\n",
      "[i] [2017-08-12T00:00:00] ---> Station G1 (1 slope(s)): advanced to 12.08.2017 00:00:00 station time\n",
      "[i] [2017-08-27T00:00:00] ---> Station G1 (1 slope(s)): advanced to 27.08.2017 00:00:00 station time\n",
      "[i] [2017-09-11T00:00:00] ---> Station G1 (1 slope(s)): advanced to 11.09.2017 00:00:00 station time\n",
      "[i] [2017-09-26T00:00:00] ---> Station G1 (1 slope(s)): advanced to 26.09.2017 00:00:00 station time\n",
      "[i] [2017-10-11T00:00:00] ---> Station G1 (1 slope(s)): advanced to 11.10.2017 00:00:00 station time\n",
      "[i] [2017-10-26T00:00:00] ---> Station G1 (1 slope(s)): advanced to 26.10.2017 00:00:00 station time\n",
      "[i] [2017-11-10T00:00:00] ---> Station G1 (1 slope(s)): advanced to 10.11.2017 00:00:00 station time\n",
      "[i] [2017-11-25T00:00:00] ---> Station G1 (1 slope(s)): advanced to 25.11.2017 00:00:00 station time\n",
      "[i] [2017-12-10T00:00:00] ---> Station G1 (1 slope(s)): advanced to 10.12.2017 00:00:00 station time\n",
      "[i] [2017-12-25T00:00:00] ---> Station G1 (1 slope(s)): advanced to 25.12.2017 00:00:00 station time\n",
      "[i] [2020-03-03T23:30:35] ---> Writing data to sno file(s) for Greenland_1 (station G1) on 2017-12-31T21:00:00\n",
      "[i] []                 Total time to read meteo data : 2.940041 s\n",
      "[i] []                 Runtime for station G1: 117.782978 s\n",
      "\n",
      "[i] []                 STARTED  running SLF RESEARCH Snowpack Model on Tue Mar  3 23:28:38 2020\n",
      "                       ========================================================================\n",
      "                       FINISHED running SLF RESEARCH Snowpack Model on Tue Mar  3 23:30:35 2020\n",
      "\n",
      "updating: output/ (stored 0%)\n",
      "updating: output/G1_standard.pro (deflated 81%)\n",
      "updating: output/G1_standard.haz (deflated 93%)\n",
      "updating: output/G1_standard.smet (deflated 71%)\n",
      "updating: output/G1_standard.sno (deflated 86%)\n",
      "updating: output/G1_standard.ini (deflated 64%)\n",
      "  adding: output/README.txt (stored 0%)\n"
     ]
    }
   ],
   "source": [
    "%%bash -s \"$G1_experiment_id\" \"$G1_TA_mf\" \"$G1_RH_mf\" \"$G1_WS_mf\" \"$G1_P_mf\" \"$G1_SWR_mf\" \"$G1_LWR_mf\" \"$G1_TA_af\" \"$G1_RH_af\" \"$G1_WS_af\" \"$G1_P_af\" \"$G1_SWR_af\" \"$G1_LWR_af\" \"$G1_end\" \"$G1_site\" \n",
    "bash run_SNOWPACK.sh $1 $2 $3 $4 $5 $6 $7 $8 $9 ${10} ${11} ${12} ${13} ${14} ${15}"
   ]
  },
  {
   "cell_type": "markdown",
   "metadata": {},
   "source": [
    "# SNOWPACK at Greenland Site 2\n",
    "#### EDIT BELOW - user editable variables. Change this to configure your SNOWPACK simulation. Please note that for each new experiment, you need to define a new exepriment id, otherwise the previous simulation will be deleted! \n",
    "\n",
    "#### You can modify the SNOWPACK simulation by perturbing the input weather data via multiplicative and/or additive factors. For example, setting the air temperature multiplicative factor to 1.1 will multiply the air temperature (in Kelvin) by 1.1. Likewise, setting the the incoming shortwave radiation additive factor to 50, will increase the incoming shortwave radiation by 50 Wm$^{-2}$. Note that although it possible to modify the weather data in rather extreme ways (e.g. setting the air temperature multiplicative factor to 100), SNOWPACK will likely encounter numerical stability and or physics issues, as the model is designed for typical alpine and polar meteorological conditions! In fact, checks inside SNOWPACK may decide your modification is unrealistic and throw it out. In short, providing SNOWPACK with extereme weather data may cause SNOWPACK act strangely. With great power, comes great responsibility! :p"
   ]
  },
  {
   "cell_type": "code",
   "execution_count": null,
   "metadata": {},
   "outputs": [],
   "source": [
    "# Experiment ID, change this to give each simulation an informative identification and unique folder\n",
    "# examples: \n",
    "# experiment_id = \"standard\" # no modifications to weather data\n",
    "# experiment_id = \"plus_one_degree\" # increase air temperature by 1 degree celsius\n",
    "# experiment_id = \"double_precipitation\" # increase precipitation by a factor of two\n",
    "# Spaces or special characters in the experiment ID are not allowed (eg. \"plus_one_degree\" not \"plus one degree\")\n",
    "AP_experiment_id = \"standard\" # no spaces or special characters. \n",
    "\n",
    "# Modify the input weather data\n",
    "# Multiplicative factors (mf) (ex: Twice as much precipitation) \n",
    "AP_TA_mf = 1 # Air temperature \n",
    "AP_RH_mf = 1 # Relative humidity\n",
    "AP_WS_mf = 1 # Wind speed\n",
    "AP_P_mf = 1 # Precipitation\n",
    "AP_SWR_mf = 1 # Incoming shortwave radiation\n",
    "AP_LWR_mf = 1 # Incoming longwave radiation \n",
    "\n",
    "# Additive factors (af) (ex: Make air temperature  degree warmer)\n",
    "AP_TA_af = 0 # Air temperature (degrees C)\n",
    "AP_RH_af = 0 # Relative humidity (dimensionless, 0 - 1)\n",
    "AP_WS_af = 0 # Wind speed (m/s)\n",
    "AP_P_af = 0 # Precipitation (mm/hr)\n",
    "AP_SWR_af = 0 # Incoming shortwave radiation (W/m^2)\n",
    "AP_LWR_af = 0 # Incoming longwave radiation (W/m^2)\n",
    "\n",
    "# Experiment end time (\"YYYY-MM-DDTHH:MM:SS\"). Note that the simulations starts at 1980-01-01T00:00:00\n",
    "AP_end = \"2007-01-01T00:00:00\"\n",
    "\n",
    "# Simulation location tag, do not edit. \n",
    "AP_site = \"AP\""
   ]
  },
  {
   "cell_type": "markdown",
   "metadata": {},
   "source": [
    "### DO NOT EDIT BELOW - non user editable commands. This tells SNOWPACK to start."
   ]
  },
  {
   "cell_type": "code",
   "execution_count": null,
   "metadata": {
    "scrolled": true
   },
   "outputs": [],
   "source": [
    "%%bash -s \"$AP_experiment_id\" \"$AP_TA_mf\" \"$AP_RH_mf\" \"$AP_WS_mf\" \"$AP_P_mf\" \"$AP_SWR_mf\" \"$AP_LWR_mf\" \"$AP_TA_af\" \"$AP_RH_af\" \"$AP_WS_af\" \"$AP_P_af\" \"$AP_SWR_af\" \"$AP_LWR_af\" \"$AP_end\" \"$AP_site\" \n",
    "bash run_SNOWPACK.sh $1 $2 $3 $4 $5 $6 $7 $8 $9 ${10} ${11} ${12} ${13} ${14} ${15}"
   ]
  },
  {
   "cell_type": "markdown",
   "metadata": {},
   "source": [
    "# Visualize SNOWPACK model output. \n",
    "### For this you need to define which model variable you want to visualize, examples:\n",
    "##### <span style=\"font-size:larger;\">Snow Depth:</span> `viz_var = \"HS_mod\"; viz_units = \"cm\"`\n",
    "##### <span style=\"font-size:larger;\">Snow Water Equivalent:</span> `viz_var = \"SWE\"; viz_units = \"mm\"`\n",
    "##### <span style=\"font-size:larger;\">Albedo:</span> `viz_var = \"pAlbedo\"; viz_units = \"dimensionless\"`\n",
    "##### <span style=\"font-size:larger;\">Surface Temperature:</span> `viz_var = \"TSS_mod\"; viz_units = \"C\"`\n",
    "##### <span style=\"font-size:larger;\">Air Temperature:</span> `viz_var = \"TA\"; viz_units = \"C\"`\n"
   ]
  },
  {
   "cell_type": "code",
   "execution_count": null,
   "metadata": {},
   "outputs": [],
   "source": [
    "# Edit Here: Visualization variable\n",
    "viz_var = \"TSS_mod\"; viz_units = \"C\"\n",
    "\n",
    "# SNOWPACK output file paths\n",
    "AP_smet_path = \"AP/\" + AP_experiment_id + \"/output/AP_\" + AP_experiment_id + \".smet\"\n",
    "SP_smet_path = \"SP/\" + SP_experiment_id + \"/output/SP_\" + SP_experiment_id + \".smet\"\n",
    "\n",
    "# Retrieve data\n",
    "AP_var= snowpack_1D.get_smet_timeseries(AP_smet_path, viz_var)\n",
    "SP_var = snowpack_1D.get_smet_timeseries(SP_smet_path, viz_var)\n",
    "\n",
    "# Figure \n",
    "fig1 = plt.figure(1, figsize=(15,5))\n",
    "plt.plot(AP_var, label=\"Antarctic Peninsula\")\n",
    "plt.plot(SP_var, label=\"South Pole\")\n",
    "plt.ylabel(viz_var + \" [\" + viz_units + \"]\", fontsize=16)\n",
    "plt.legend()\n",
    "plt.grid()"
   ]
  },
  {
   "cell_type": "markdown",
   "metadata": {},
   "source": [
    "## We can also visualize SNOWPACK output by downloading the output files and uploading them to https://run.niviz.org. Follow directions below:\n",
    "### First, download the SNOWPACK ouput .pro and .smet files by clicking the links below."
   ]
  },
  {
   "cell_type": "code",
   "execution_count": null,
   "metadata": {},
   "outputs": [],
   "source": [
    "drylake_pro_path = \"drylake/\" + drylake_experiment_id + \"/output/drylake_\" + drylake_experiment_id + \".pro\"\n",
    "FileLink(drylake_pro_path)"
   ]
  },
  {
   "cell_type": "code",
   "execution_count": null,
   "metadata": {},
   "outputs": [],
   "source": [
    "drylake_smet_path = \"drylake/\" + drylake_experiment_id + \"/output/drylake_\" + drylake_experiment_id + \".smet\"\n",
    "FileLink(drylake_smet_path)"
   ]
  },
  {
   "cell_type": "code",
   "execution_count": null,
   "metadata": {},
   "outputs": [],
   "source": [
    "AP_pro_path = \"AP/\" + AP_experiment_id + \"/output/AP_\" + AP_experiment_id + \".pro\"\n",
    "FileLink(AP_pro_path)"
   ]
  },
  {
   "cell_type": "code",
   "execution_count": null,
   "metadata": {},
   "outputs": [],
   "source": [
    "AP_smet_path = \"AP/\" + AP_experiment_id + \"/output/AP_\" + AP_experiment_id + \".smet\"\n",
    "FileLink(AP_smet_path)"
   ]
  },
  {
   "cell_type": "code",
   "execution_count": null,
   "metadata": {},
   "outputs": [],
   "source": [
    "SP_pro_path = \"SP/\" + SP_experiment_id + \"/output/SP_\" + SP_experiment_id + \".pro\"\n",
    "FileLink(SP_pro_path)"
   ]
  },
  {
   "cell_type": "code",
   "execution_count": null,
   "metadata": {},
   "outputs": [],
   "source": [
    "SP_smet_path = \"SP/\" + SP_experiment_id + \"/output/SP_\" + SP_experiment_id + \".smet\"\n",
    "FileLink(SP_smet_path)"
   ]
  },
  {
   "cell_type": "markdown",
   "metadata": {},
   "source": [
    "### Next, open https://run.niviz.org in a web browser and upload one of the files you just downloaded. "
   ]
  },
  {
   "cell_type": "code",
   "execution_count": null,
   "metadata": {},
   "outputs": [],
   "source": [
    "Image(filename='images/image_1.png')"
   ]
  },
  {
   "cell_type": "markdown",
   "metadata": {},
   "source": [
    "### This should give you a profile visualization similar to this."
   ]
  },
  {
   "cell_type": "code",
   "execution_count": null,
   "metadata": {},
   "outputs": [],
   "source": [
    "Image(filename='images/image_2.png')"
   ]
  },
  {
   "cell_type": "markdown",
   "metadata": {},
   "source": [
    "### You can change the variable of interest by selecting from the drop down menu. "
   ]
  },
  {
   "cell_type": "code",
   "execution_count": null,
   "metadata": {
    "scrolled": false
   },
   "outputs": [],
   "source": [
    "Image(filename='images/image_3.png')"
   ]
  },
  {
   "cell_type": "markdown",
   "metadata": {},
   "source": [
    "### You can also retrieve a timeseries of snow density at one meter depth by selecting \"Extract Time Series\""
   ]
  },
  {
   "cell_type": "code",
   "execution_count": null,
   "metadata": {},
   "outputs": [],
   "source": [
    "Image(filename='images/image_4.png')"
   ]
  },
  {
   "cell_type": "code",
   "execution_count": null,
   "metadata": {},
   "outputs": [],
   "source": [
    "Image(filename='images/image_5.png')"
   ]
  },
  {
   "cell_type": "code",
   "execution_count": null,
   "metadata": {},
   "outputs": [],
   "source": [
    "Image(filename='images/image_6.png')"
   ]
  }
 ],
 "metadata": {
  "kernelspec": {
   "display_name": "Python 3",
   "language": "python",
   "name": "python3"
  },
  "language_info": {
   "codemirror_mode": {
    "name": "ipython",
    "version": 3
   },
   "file_extension": ".py",
   "mimetype": "text/x-python",
   "name": "python",
   "nbconvert_exporter": "python",
   "pygments_lexer": "ipython3",
   "version": "3.7.3"
  }
 },
 "nbformat": 4,
 "nbformat_minor": 4
}
